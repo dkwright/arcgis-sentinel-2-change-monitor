{
 "cells": [
  {
   "cell_type": "markdown",
   "id": "457d56b6",
   "metadata": {},
   "source": [
    "# Automated Change Monitoring with Sentinel-2 L2A"
   ]
  },
  {
   "cell_type": "markdown",
   "id": "4c140265",
   "metadata": {},
   "source": [
    "## 01 - Manage Mosaic Datasets - This version creates one separate Mosaic Dataset for each active monitoring AOI"
   ]
  },
  {
   "cell_type": "markdown",
   "id": "25228ff6",
   "metadata": {},
   "source": [
    "#### Connect to the ArcGIS Online organization"
   ]
  },
  {
   "cell_type": "code",
   "execution_count": null,
   "id": "87bccf45",
   "metadata": {},
   "outputs": [],
   "source": [
    "from arcgis import GIS\n",
    "from arcgis.features import FeatureLayerCollection\n",
    "from arcgis.raster.analytics import copy_raster\n",
    "import getpass\n",
    "\n",
    "org_url = input('Enter ArcGIS Enterprise Portal URL (e.g. https://cname.domain/portal): ')\n",
    "uname = input('Enter username: ')\n",
    "pw = getpass.getpass('Enter password: ')\n",
    "gis = GIS(org_url, uname, pw, verify_cert=False)"
   ]
  },
  {
   "cell_type": "markdown",
   "id": "fe761445",
   "metadata": {},
   "source": [
    "#### Load the Monitoring specification Feature Service"
   ]
  },
  {
   "cell_type": "code",
   "execution_count": null,
   "id": "bcd5d4aa",
   "metadata": {},
   "outputs": [],
   "source": [
    "monitoring_aois_guid = input('Enter the GUID for your Sentinel-2 L2A Monitoring Controls Feature Service: ')\n",
    "monitoring_aois_item = gis.content.get(monitoring_aois_guid)\n",
    "monitoring_aois_item"
   ]
  },
  {
   "cell_type": "markdown",
   "id": "055be2ea",
   "metadata": {},
   "source": [
    "#### Access the layer and query it for the active AOIs"
   ]
  },
  {
   "cell_type": "code",
   "execution_count": null,
   "id": "0a2aaeb9",
   "metadata": {},
   "outputs": [],
   "source": [
    "monitoring_aois_layers = monitoring_aois_item.layers\n",
    "monitoring_aois_layer = monitoring_aois_layers[0]\n",
    "\n",
    "active_aois = monitoring_aois_layer.query(where=\"Active='True'\",\n",
    "                                          out_fields='name,description,active,startdate,enddate,lastmoddate,cloudcoverpct,notify,contactemail,imageservice,changeimageservice')\n",
    "active_aois.sdf"
   ]
  },
  {
   "cell_type": "markdown",
   "id": "387fa9ef",
   "metadata": {},
   "source": [
    "## Execute Mosaic Dataset Configuration Script to create / update Mosaic Dataset for each active AOI"
   ]
  },
  {
   "cell_type": "code",
   "execution_count": null,
   "id": "a174bb7f",
   "metadata": {},
   "outputs": [],
   "source": [
    "import MDCS\n",
    "from os import makedirs\n",
    "from os.path import join, abspath, dirname, exists\n",
    "from datetime import date, datetime\n",
    "from arcgis.geometry import Geometry, project\n",
    "\n",
    "for feature in active_aois:\n",
    "\n",
    "    today = date.today()\n",
    "    \n",
    "    # if EndDate is null we assume it should always be run into the future\n",
    "    if feature.attributes[\"enddate\"] != None:\n",
    "        enddate_fmt = date.fromtimestamp(feature.attributes[\"enddate\"] / 1e3)\n",
    "        enddate = enddate_fmt.strftime(\"%Y-%m-%d\")\n",
    "    else:\n",
    "        enddate = today.strftime(\"%Y-%m-%d\")\n",
    "\n",
    "    startdate_fmt = date.fromtimestamp(feature.attributes['startdate'] / 1e3)\n",
    "    startdate = startdate_fmt.strftime(\"%Y-%m-%d\")\n",
    "\n",
    "    print(\"===========================================\")\n",
    "    print(\"Processing AOI: \" + feature.attributes[\"name\"])    \n",
    "    print(\"Start Date: \" + startdate)\n",
    "    print(\"Todays Date: \" + str(today))\n",
    "    print(\"End Date: \" + enddate)\n",
    "    print(\"Cloud cover percent limit: \" + str(feature.attributes[\"cloudcoverpct\"]))\n",
    "    \n",
    "    geom = Geometry(feature.geometry)\n",
    "    geom_reprojected = project([geom], in_sr = 3857, out_sr = 4326)[0]\n",
    "    aoi = str(geom_reprojected.envelope.xmin) + \",\" + str(geom_reprojected.envelope.ymin) + \",\" + str(geom_reprojected.envelope.xmax)  + \",\" + str(geom_reprojected.envelope.ymax)\n",
    "\n",
    "    print(\"BBOX: \" + aoi)\n",
    "\n",
    "    args= []\n",
    "\n",
    "    args = ['#gprun']\n",
    "    \n",
    "    gdb_name = feature.attributes[\"name\"]\n",
    "    interval = 1\n",
    "    \n",
    "    if not exists(r\"C:\\data\\Sentinel-2-l2a\\change_monitor\"):\n",
    "        makedirs(r\"C:\\data\\Sentinel-2-l2a\\change_monitor\")\n",
    "    base_path = f\"C:\\data\\Sentinel-2-l2a\\change_monitor\\{gdb_name}.gdb\"\n",
    "    full_path = '-m:' + join(base_path, gdb_name)\n",
    "    \n",
    "    config = \"-i:\" + r\"..\\Parameter\\Config\\DEA.xml\"\n",
    "    cmd = \"-c:CM+sentinelModifySrc+AF+AR+markduplicate+RRFMD+SP+CV\"\n",
    "    \n",
    "    cloudcover = feature.attributes[\"cloudcoverpct\"]\n",
    "    \n",
    "    args.append(full_path)\n",
    "    args.append(config)\n",
    "    args.append(\"-p:{0}$startdate\".format(startdate))\n",
    "    args.append(\"-p:{0}$enddate\".format(enddate))\n",
    "    args.append(\"-p:{0}$coordinate\".format(aoi))\n",
    "    #args.append(\"-p:{0}$aoisrs\".format(aoisrs))\n",
    "    args.append(\"-p:{0}$cloud\".format(cloudcover))\n",
    "    args.append(\"-p:{0}$interval\".format(interval))\n",
    "    args.append(cmd)\n",
    "\n",
    "    #messages.addMessage(time.ctime())\n",
    "\n",
    "    argc = len(args)\n",
    "\n",
    "    ret = MDCS.main(argc, args)\n",
    "    \n",
    "    print(\"\\nMDCS command results:\")\n",
    "    \n",
    "    update = False\n",
    "    \n",
    "    for command_result in ret:\n",
    "        print(str(command_result[\"cmd\"]) + \" : \" + str(command_result[\"value\"]))\n",
    "        if \"AR\" in command_result[\"cmd\"] and command_result[\"value\"] == True:\n",
    "            update = True\n",
    "        \n",
    "    if update:\n",
    "        print(\"New rasters have been added to this Mosaic Dataset.\")\n",
    "        # update the feature's LastModDate attribute with the current datetime stamp\n",
    "        monitoring_aois_layer.calculate(where=f\"name='{gdb_name}'\", calc_expression={\"field\":\"lastmoddate\", \"value\": datetime.now()})\n",
    "\n",
    "        if feature.attributes[\"notify\"] == \"True\":\n",
    "            print(\"Notifications are set to active for: \" + feature.attributes[\"contactemail\"])\n",
    "            # notify by email to feature.attributes[\"ContactEmail\"]\n",
    "        else:\n",
    "            print(\"Notifications are not active for this AOI.\")\n",
    "    \n",
    "    print(\"\\n\")            \n",
    "    print(\"AOI finished\")\n",
    "\n",
    "print(\"\\n\")\n",
    "print(\"Finished all active AOIs\")"
   ]
  },
  {
   "cell_type": "markdown",
   "id": "db87c7f0",
   "metadata": {},
   "source": [
    "## Shutdown this kernel (to free up MD locks) before running the next notebook!"
   ]
  }
 ],
 "metadata": {
  "kernelspec": {
   "display_name": "Python 3.9.11 64-bit (system)",
   "language": "python",
   "name": "python3"
  },
  "language_info": {
   "codemirror_mode": {
    "name": "ipython",
    "version": 3
   },
   "file_extension": ".py",
   "mimetype": "text/x-python",
   "name": "python",
   "nbconvert_exporter": "python",
   "pygments_lexer": "ipython3",
   "version": "3.9.11"
  },
  "vscode": {
   "interpreter": {
    "hash": "ce21b655b4d6c9e397d5ad93d5666c623f49909f6d0cc2f72076dafcf1b3ecfb"
   }
  }
 },
 "nbformat": 4,
 "nbformat_minor": 5
}
