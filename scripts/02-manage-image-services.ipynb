{
 "cells": [
  {
   "cell_type": "markdown",
   "id": "48b74567",
   "metadata": {},
   "source": [
    "# Automated Change Monitoring with Sentinel-2 L2A"
   ]
  },
  {
   "cell_type": "markdown",
   "id": "26c85624",
   "metadata": {},
   "source": [
    "## 02 - Manage Image Services"
   ]
  },
  {
   "cell_type": "markdown",
   "id": "fcce610f",
   "metadata": {},
   "source": [
    "#### Connect to the ArcGIS Online organization"
   ]
  },
  {
   "cell_type": "code",
   "execution_count": null,
   "id": "0e3fd62e",
   "metadata": {},
   "outputs": [],
   "source": [
    "from arcgis import GIS\n",
    "from arcgis.features import FeatureLayerCollection\n",
    "from arcgis.raster.analytics import copy_raster\n",
    "import getpass\n",
    "from os.path import join\n",
    "\n",
    "# Local dir to create Mosaic Dataset(s) \n",
    "local_md_dir = r\"C:\\data\\Sentinel-2-l2a\\change_monitor\"\n",
    "\n",
    "# ArcGIS Enterprise variables\n",
    "org_url = input('Enter ArcGIS Enterprise Portal URL (e.g. https://cname.domain/portal): ')\n",
    "uname = input('Enter username: ')\n",
    "pw = getpass.getpass('Enter password: ')\n",
    "image_url = input('Enter Federated ArcGIS Enterprise Image Hosting URL (e.g. https://cname.domain/image): ')\n",
    "gis = GIS(org_url, uname, pw, verify_cert=False)"
   ]
  },
  {
   "cell_type": "markdown",
   "id": "fa333167",
   "metadata": {},
   "source": [
    "#### Load the Monitoring specification Feature Service"
   ]
  },
  {
   "cell_type": "code",
   "execution_count": null,
   "id": "b13a6fc6",
   "metadata": {},
   "outputs": [],
   "source": [
    "monitoring_aois_guid = input('Enter the GUID for your Sentinel-2 L2A Monitoring Controls Feature Service item: ')\n",
    "monitoring_aois_item = gis.content.get(monitoring_aois_guid)\n",
    "monitoring_aois_item"
   ]
  },
  {
   "cell_type": "markdown",
   "id": "fb32ca22",
   "metadata": {},
   "source": [
    "#### Access the layer and query it for the active AOIs"
   ]
  },
  {
   "cell_type": "code",
   "execution_count": null,
   "id": "3d0ad27e",
   "metadata": {},
   "outputs": [],
   "source": [
    "monitoring_aois_layers = monitoring_aois_item.layers\n",
    "monitoring_aois_layer = monitoring_aois_layers[0]\n",
    "\n",
    "active_aois = monitoring_aois_layer.query(where=\"Active='True'\",\n",
    "                                          out_fields='name,description,active,startdate,enddate,lastmoddate,cloudcoverpct,notify,contactemail,imageservice,changeimageservice')\n",
    "active_aois.sdf"
   ]
  },
  {
   "cell_type": "markdown",
   "id": "5a8652a4",
   "metadata": {},
   "source": [
    "### Copy Mosaic Dataset(s) to Image Hosting File Server"
   ]
  },
  {
   "cell_type": "code",
   "execution_count": null,
   "id": "aaa245d5",
   "metadata": {},
   "outputs": [],
   "source": [
    "# This method transfers the File GeoDataBase to a Linux File Server configured with the Image Hosting Site. \n",
    "# Note that a Folder Datastore was configured for access to the File Server\n",
    "# Also note that there is a Server Folder on the Image Hosting site - \"change_monitor\"\n",
    "# that is meant to partition the Image Services created / updated by this code base\n",
    "# The SCP method here passes the user's id_rsa key to authenticate with the Linux File Server.\n",
    "# if you are using a Windows host, please examine OpenSSH to provide SCP capabilities for Windows,\n",
    "# or condier an alternative file transfer method.\n",
    "\n",
    "username_hostname = \"arcgis@host.mydomain.com\"\n",
    "server_filepath = \"/net/10.0.0.89/gisdata/arcgisserver/raster/sentinel-2-l2a/change_monitor/\"\n",
    "private_key_file =  r\"C:\\Users\\username\\.ssh\\private_key_for_hostname\\id_rsa\"\n",
    "\n",
    "import subprocess\n",
    "from datetime import datetime\n",
    "\n",
    "for feature in active_aois:\n",
    "    feature_name = feature.attributes[\"name\"]\n",
    "    # Using a time-stamped FGDB name so we can keep an archive of the Mosiac Datasets on the server\n",
    "    gdb_name = feature_name + \"_\" + datetime.utcfromtimestamp(feature.attributes[\"lastmoddate\"] / 1000).strftime(\"%m_%d_%Y_%H_%M_%S\")\n",
    "    md_name = feature_name\n",
    "    print(f\"Copying File GeoDataBase to server: {gdb_name}\")\n",
    "    print(join(local_md_dir, gdb_name + \".gdb\"))\n",
    "    gdb_copy_result = subprocess.run([\"scp\", \"-C\", \"-i\", private_key_file, \"-r\", join(local_md_dir, feature_name + \".gdb\"), username_hostname + \":\" + server_filepath + gdb_name + \".gdb\"])\n",
    "    if gdb_copy_result.returncode == 0:\n",
    "        print(f\"File GeoDataBase {gdb_name} copied successfully to Image Hosting File Server.\")\n",
    "    else:\n",
    "        print(f\"An error occurred while copying the File GeoDataBase {gdb_name} to Image Hosting File Server. Check that no locks exist on the FGDB(s) and try again.\")\n",
    "\n",
    "print(\"File GeoDataBase transfers are complete.\")"
   ]
  },
  {
   "cell_type": "markdown",
   "id": "a67c71b5",
   "metadata": {},
   "source": [
    "### Image Service Management"
   ]
  },
  {
   "cell_type": "code",
   "execution_count": null,
   "id": "1de33ccd",
   "metadata": {},
   "outputs": [],
   "source": [
    "import requests\n",
    "from urllib.parse import urlencode\n",
    "import json\n",
    "import warnings; warnings.simplefilter('ignore')\n",
    "from os.path import join\n",
    "\n",
    "try:\n",
    "    from ujson import loads, dumps\n",
    "except:\n",
    "    from json import loads, dumps"
   ]
  },
  {
   "cell_type": "code",
   "execution_count": null,
   "id": "c72a2238",
   "metadata": {},
   "outputs": [],
   "source": [
    "# Function to generate token from ArcGIS Sharing API\n",
    "\n",
    "def get_token_referer(username,password,portal_url,server_url,referer):\n",
    "        # Function to get authentication token from portal\n",
    "        flag = True\n",
    "        print(\"Requesting authentication token\")\n",
    "        if flag:\n",
    "            url = portal_url + '/sharing/rest/generateToken'\n",
    "            payload = {\n",
    "                \"username\": username,\n",
    "                \"password\": password,\n",
    "                \"client\": \"referer\",\n",
    "                \"referer\": referer,\n",
    "                \"expiration\": \"120\",\n",
    "                \"f\": \"pjson\"\n",
    "            }\n",
    "            headers = {\n",
    "                'Content-Type': \"application/x-www-form-urlencoded\"\n",
    "            }\n",
    "            try:\n",
    "                response = requests.post(url, data=payload, headers=headers)\n",
    "                if response.status_code == requests.codes.ok:\n",
    "                    token = response.json()['token']\n",
    "                    print(token)\n",
    "                    return token\n",
    "                else:\n",
    "                    return False\n",
    "                    pass\n",
    "            except requests.RequestException as e:\n",
    "                raise e\n",
    "        else:\n",
    "            print(server_url + \"/rest is not reachable\")\n",
    "            return False"
   ]
  },
  {
   "cell_type": "markdown",
   "id": "9506aeff",
   "metadata": {},
   "source": [
    "#### Connect to ArcGIS Enterprise and generate token"
   ]
  },
  {
   "cell_type": "code",
   "execution_count": null,
   "id": "4747c3d5",
   "metadata": {},
   "outputs": [],
   "source": [
    "portal_url = org_url\n",
    "portal_token = get_token_referer(uname,pw,portal_url,image_url,portal_url + '/sharing/rest')\n",
    "image_token = get_token_referer(uname,pw,portal_url,image_url,image_url)"
   ]
  },
  {
   "cell_type": "code",
   "execution_count": null,
   "id": "84c01534",
   "metadata": {},
   "outputs": [],
   "source": [
    "# Function to publish a new Image Service to Image Server using admin REST\n",
    "\n",
    "def publish_image_service(service_name, service_json):\n",
    "    url = '{}/admin/services/change_monitor/createService'.format(image_url)\n",
    "    payload = {\"service\": json.dumps(service_json)}\n",
    "    headers = {'Content-Type': \"application/x-www-form-urlencoded\"}\n",
    "    querystring = {\"f\": \"pjson\", \"token\": image_token}\n",
    "    try:\n",
    "        resp = requests.request(\"POST\", url, data=payload, headers=headers, params=querystring)\n",
    "    except Exception as e:\n",
    "        print(\"failure: \" + e)\n",
    "\n",
    "    return resp"
   ]
  },
  {
   "cell_type": "code",
   "execution_count": null,
   "id": "82143af3",
   "metadata": {},
   "outputs": [],
   "source": [
    "# Function to edit an existing Image Service using admin REST\n",
    "\n",
    "def edit_image_service(service_name, service_json):\n",
    "    url = '{0}/admin/services/change_monitor/{1}.ImageServer/edit?'.format(image_url, service_name)\n",
    "    #url = '{}/admin/services/change_monitor/createService'.format(image_url)\n",
    "    payload = {\"service\": json.dumps(service_json)}\n",
    "    headers = {'Content-Type': \"application/x-www-form-urlencoded\"}\n",
    "    querystring = {\"f\": \"pjson\", \"token\": image_token}\n",
    "    try:\n",
    "        resp = requests.request(\"POST\", url, data=payload, headers=headers, params=querystring)\n",
    "    except Exception as e:\n",
    "        print(\"failure: \" + e)\n",
    "\n",
    "    return resp\n"
   ]
  },
  {
   "cell_type": "code",
   "execution_count": null,
   "id": "8e80ff3b",
   "metadata": {},
   "outputs": [],
   "source": [
    "# Functions to manage service JSON from a template or from an existing service\n",
    "\n",
    "def update_service_path(current_path, new_gdb_md, md_name):\n",
    "    gdb_path = current_path.rsplit('\\\\', 1)[0]\n",
    "    path = gdb_path.rsplit('\\\\', 1)[0]\n",
    "    updated_service_path = join(path, new_gdb_md, md_name)\n",
    "    \n",
    "    return updated_service_path\n",
    "\n",
    "def create_service_json(service_name, service_exists, gdb_name, md_name):\n",
    "    if not service_exists:\n",
    "        # read JSON from a template\n",
    "        with open(r\"service_mgmt\\\\rest-create-service-s2l2a-template.json\", \"r\") as template_file:\n",
    "            data = template_file.read()\n",
    "        obj = loads(data)\n",
    "        servicename_replaced = dumps(obj).replace(\"MYSERVICENAME\", service_name)\n",
    "        obj2 = loads(servicename_replaced)\n",
    "        gdb_replaced = dumps(obj2).replace(\"GDBNAME\", gdb_name)\n",
    "        obj3 = loads(gdb_replaced)\n",
    "        md_replaced = dumps(obj3).replace(\"MDNAME\", md_name)\n",
    "        service_json = loads(md_replaced)\n",
    "    else:\n",
    "        # read the existing JSON from the service\n",
    "        url = '{0}/admin/services/change_monitor/{1}.ImageServer'.format(image_url, service_name, image_token)\n",
    "        headers = {\"Content-Type\": \"application/x-www-form-urlencoded\"}\n",
    "        querystring = {\"f\": \"pjson\", \"token\": image_token}\n",
    "        try:\n",
    "            resp = requests.request(\"GET\", url, headers=headers, params=querystring)\n",
    "        except exception as e:\n",
    "            print(\"failure: \" + e)\n",
    "\n",
    "        current_svc_json = resp.json()\n",
    "        current_path = current_svc_json[\"properties\"][\"path\"]\n",
    "        new_path = update_service_path(current_path, gdb_name, md_name)\n",
    "        current_svc_json[\"properties\"][\"path\"] = new_path\n",
    "        dumpobj = dumps(current_svc_json)\n",
    "        service_json = current_svc_json\n",
    "        \n",
    "    return service_json"
   ]
  },
  {
   "cell_type": "code",
   "execution_count": null,
   "id": "af53b98b",
   "metadata": {},
   "outputs": [],
   "source": [
    "# Functions to start and stop services\n",
    "\n",
    "def stop_service(image_url, service_name, image_token):\n",
    "    url = '{0}/admin/services/change_monitor/{1}.ImageServer/stop?f=pjson&token={2}'.format(image_url, service_name, image_token)\n",
    "    headers = {'Content-Type': \"application/x-www-form-urlencoded\"}\n",
    "    payload = {}\n",
    "    try:\n",
    "        resp = requests.request(\"POST\", url, data=payload, headers=headers)\n",
    "    except Exception as e:\n",
    "        print(\"failure: \" + e)\n",
    "    \n",
    "    return resp.content\n",
    "\n",
    "def start_service(image_url, service_name, image_token):\n",
    "    url = '{0}/admin/services/change_monitor/{1}.ImageServer/start?f=pjson&token={2}'.format(image_url, service_name, image_token)\n",
    "    headers = {'Content-Type': \"application/x-www-form-urlencoded\"}\n",
    "    payload = {}\n",
    "    try:\n",
    "        resp = requests.request(\"POST\", url, data=payload, headers=headers)\n",
    "    except Exception as e:\n",
    "        print(\"failure: \" + e)\n",
    "\n",
    "    return resp.content"
   ]
  },
  {
   "cell_type": "markdown",
   "id": "75961486",
   "metadata": {},
   "source": [
    "### Publish or update the Image Service"
   ]
  },
  {
   "cell_type": "code",
   "execution_count": null,
   "id": "8767ec6e",
   "metadata": {},
   "outputs": [],
   "source": [
    "for feature in active_aois:\n",
    "    service_name = feature.attributes[\"name\"]\n",
    "    match_list = gis.content.search(service_name, item_type = \"Image Service\")\n",
    "    print(\"Searching portal for item name: {0}\".format(service_name))\n",
    "    print(\"Potential matches:\")\n",
    "    print(\"-----------------\")\n",
    "    for match in match_list:\n",
    "        print(match.title)\n",
    "    message = \"Service {} does not exist. Publishing...\".format(service_name)\n",
    "    service_exists = False\n",
    "    \n",
    "    for match in match_list:\n",
    "        if match.title == feature.attributes[\"name\"]:\n",
    "            message = \"Service {} already exists. Updating it...\".format(service_name)\n",
    "            service_exists = True\n",
    "        else:\n",
    "            service_exists = False\n",
    "    print(\"\\n\" + message)\n",
    "    \n",
    "    gdb_name = service_name + \"_\" + datetime.utcfromtimestamp(feature.attributes[\"lastmoddate\"] / 1000).strftime(\"%m_%d_%Y_%H_%M_%S\")\n",
    "    md_name = service_name\n",
    "    \n",
    "    if service_exists:\n",
    "        service_json = create_service_json(service_name, True, gdb_name + \".gdb\", service_name)\n",
    "        if \"success\" in str(stop_service(image_url, service_name, image_token)):\n",
    "            print(\"Service stopped.\")\n",
    "        edit_image_service(service_name, service_json)\n",
    "        print(\"Service updated\")\n",
    "        if \"success\" in str(start_service(image_url, service_name, image_token)):\n",
    "            print(\"Service started.\")\n",
    "    else:\n",
    "        service_json = create_service_json(service_name, False, gdb_name + \".gdb\", service_name)\n",
    "        publish_image_service(service_name, service_json)\n",
    "        print(\"New service published\")\n",
    "        \n",
    "print(\"Image Service management complete.\")"
   ]
  }
 ],
 "metadata": {
  "kernelspec": {
   "display_name": "Python 3",
   "language": "python",
   "name": "python3"
  },
  "language_info": {
   "codemirror_mode": {
    "name": "ipython",
    "version": 3
   },
   "file_extension": ".py",
   "mimetype": "text/x-python",
   "name": "python",
   "nbconvert_exporter": "python",
   "pygments_lexer": "ipython3",
   "version": "3.9.18"
  },
  "vscode": {
   "interpreter": {
    "hash": "ce21b655b4d6c9e397d5ad93d5666c623f49909f6d0cc2f72076dafcf1b3ecfb"
   }
  }
 },
 "nbformat": 4,
 "nbformat_minor": 5
}
